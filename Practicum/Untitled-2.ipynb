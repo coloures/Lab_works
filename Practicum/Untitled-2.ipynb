{
 "cells": [
  {
   "cell_type": "code",
   "execution_count": 14,
   "metadata": {
    "dotnet_interactive": {
     "language": "csharp"
    },
    "polyglot_notebook": {
     "kernelName": "csharp"
    }
   },
   "outputs": [
    {
     "name": "stdout",
     "output_type": "stream",
     "text": [
      "0\t0:00000000000:0000000000000000000000000000000000000000000000000000\n",
      "1\t0:01111111111:0000000000000000000000000000000000000000000000000000\n",
      "2\t0:10000000000:0000000000000000000000000000000000000000000000000000\n",
      "3\t0:10000000000:1000000000000000000000000000000000000000000000000000\n",
      "NaN\t1:11111111111:1000000000000000000000000000000000000000000000000000\n",
      "+Inf\t0:11111111111:0000000000000000000000000000000000000000000000000000\n",
      "-Inf\t1:11111111111:0000000000000000000000000000000000000000000000000000\n"
     ]
    }
   ],
   "source": [
    "string DoubleToBinaryString(double val)\n",
    "{\n",
    "    long v = BitConverter.DoubleToInt64Bits(val);\n",
    "    string binary = Convert.ToString(v, 2);\n",
    "    return binary.PadLeft(64, '0').Insert(12, \":\").Insert(1, \":\");\n",
    "}\n",
    "Console.WriteLine(\"0\\t\" + DoubleToBinaryString(0));\n",
    "Console.WriteLine(\"1\\t\" + DoubleToBinaryString(1));\n",
    "Console.WriteLine(\"2\\t\" + DoubleToBinaryString(2));\n",
    "Console.WriteLine(\"3\\t\" + DoubleToBinaryString(3));\n",
    "Console.WriteLine(\"NaN\\t\" + DoubleToBinaryString(Double.NaN));\n",
    "Console.WriteLine(\"+Inf\\t\" + DoubleToBinaryString(Double.PositiveInfinity));\n",
    "Console.WriteLine(\"-Inf\\t\" + DoubleToBinaryString(Double.NegativeInfinity));"
   ]
  },
  {
   "cell_type": "code",
   "execution_count": 19,
   "metadata": {
    "dotnet_interactive": {
     "language": "csharp"
    },
    "polyglot_notebook": {
     "kernelName": "csharp"
    }
   },
   "outputs": [
    {
     "name": "stdout",
     "output_type": "stream",
     "text": [
      "35,99\n",
      "0,5899999999999999\n"
     ]
    }
   ],
   "source": [
    "class TrapezoidalRule {\n",
    "    public static double Solve(Func<double, double> f, double a, double b, double dx) {\n",
    "        \n",
    "        // Решение\n",
    "        //double answer = 0;\n",
    "        //for(double i = a; i<b; )\n",
    "        //{\n",
    "        //    Console.WriteLine($\"i = {i}, i+dx = {i+dx}, f(i) = {f(i)}, f(i+dx)= {f(i+dx)}, dx = {}\");\n",
    "        //    answer += (f(i) + f(i+dx))/2 * dx;\n",
    "        //    i += dx;\n",
    "        //} // второй способ\n",
    "        double answer = f(a) + f(b);\n",
    "        double n = (b-a)/dx;\n",
    "        for(int i = 0; i < n; i++ )\n",
    "        {\n",
    "            answer += 2*f(a+ i * dx);\n",
    "        }\n",
    "        answer *= dx/2;\n",
    "        answer += 1/6*Math.Pow(b-a,3);\n",
    "        return answer;\n",
    "    }\n",
    "}\n",
    "Func<double, double> f = (double x) => -x*x + 9;\n",
    "\n",
    "var answ = TrapezoidalRule.Solve(f, -3, 3, 0.1);\n",
    "Console.WriteLine(answ);\n",
    "Console.WriteLine(f(2.9));"
   ]
  }
 ],
 "metadata": {
  "kernelspec": {
   "display_name": ".NET (C#)",
   "language": "C#",
   "name": ".net-csharp"
  },
  "language_info": {
   "name": "polyglot-notebook"
  },
  "polyglot_notebook": {
   "kernelInfo": {
    "defaultKernelName": "csharp",
    "items": [
     {
      "aliases": [],
      "languageName": "csharp",
      "name": "csharp"
     }
    ]
   }
  }
 },
 "nbformat": 4,
 "nbformat_minor": 2
}
