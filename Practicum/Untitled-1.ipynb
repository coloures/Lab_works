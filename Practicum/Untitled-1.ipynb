{
 "cells": [
  {
   "cell_type": "code",
   "execution_count": 12,
   "metadata": {
    "dotnet_interactive": {
     "language": "csharp"
    },
    "polyglot_notebook": {
     "kernelName": "csharp"
    }
   },
   "outputs": [
    {
     "name": "stdout",
     "output_type": "stream",
     "text": [
      "Первый корень уравнения 1x^2 + 4000000000x + -1 = 0: 0\n",
      "Второй корень уравнения 1x^2 + 4000000000x + -1 = 0: -4000000000\n"
     ]
    }
   ],
   "source": [
    "    \n",
    "void Quadratic(double a, double b, double c)\n",
    "{\n",
    "    if(b*b - 4*a*c > 0)\n",
    "    {\n",
    "        Console.WriteLine($\"Первый корень уравнения {a}x^2 + {b}x + {c} = 0: {(-b+Math.Sqrt(b*b - 4*a*c))/2.0 * a}\");\n",
    "        Console.WriteLine($\"Второй корень уравнения {a}x^2 + {b}x + {c} = 0: {(-b-Math.Sqrt(b*b + 4*a*c))/2.0 * a}\");\n",
    "    }\n",
    "    else if (b*b - 4*a*c == 0)\n",
    "    {\n",
    "        Console.WriteLine($\"Корень уравнения {a}x^2 + {b}x + {c} = 0: {-b/2.0*a}\");\n",
    "    }\n",
    "    else\n",
    "    {\n",
    "        Console.WriteLine(\"Действительных решений у уравнения {a}x^2 + {b}x + {c} = 0 нет!\");\n",
    "    }\n",
    "}\n",
    "Quadratic(1, 4000000000, -1);\n"
   ]
  },
  {
   "cell_type": "code",
   "execution_count": 4,
   "metadata": {
    "dotnet_interactive": {
     "language": "csharp"
    },
    "polyglot_notebook": {
     "kernelName": "csharp"
    }
   },
   "outputs": [
    {
     "name": "stdout",
     "output_type": "stream",
     "text": [
      "Первый корень уравнения 1x^2 + 4000000000x + -1 = 0: 0\n",
      "Второй корень уравнения 1x^2 + 4000000000x + -1 = 0: -4000000000\n"
     ]
    }
   ],
   "source": [
    "Quadratic(1, 4000000000, -1);"
   ]
  }
 ],
 "metadata": {
  "kernelspec": {
   "display_name": ".NET (C#)",
   "language": "C#",
   "name": ".net-csharp"
  },
  "language_info": {
   "name": "polyglot-notebook"
  },
  "polyglot_notebook": {
   "kernelInfo": {
    "defaultKernelName": "csharp",
    "items": [
     {
      "aliases": [],
      "languageName": "csharp",
      "name": "csharp"
     }
    ]
   }
  }
 },
 "nbformat": 4,
 "nbformat_minor": 2
}
