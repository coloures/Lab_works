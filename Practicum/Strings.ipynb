{
 "cells": [
  {
   "cell_type": "code",
   "execution_count": 4,
   "metadata": {
    "dotnet_interactive": {
     "language": "csharp"
    },
    "polyglot_notebook": {
     "kernelName": "csharp"
    }
   },
   "outputs": [
    {
     "name": "stdout",
     "output_type": "stream",
     "text": [
      "srpvqwjgwp, 944307 - for string competely\n",
      "eqqkhkeyxp, 1153131 - for stringbuilder competely\n"
     ]
    }
   ],
   "source": [
    "Random rand = new Random();\n",
    "string str = string.Empty;\n",
    "for(int i = 0; i < 10; i++) \n",
    "{\n",
    "    str += (char)rand.Next(97, 122);\n",
    "}\n",
    "StringBuilder sb = new StringBuilder(str);\n",
    "var time = System.Diagnostics.Stopwatch.StartNew();\n",
    "for (int i = 1; i < 1000001; i++) \n",
    "{\n",
    "    str.Insert(i % 10, (char)rand.Next(97, 122)+\"\");\n",
    "}\n",
    "time.Stop();\n",
    "TimeSpan ts = time.Elapsed;\n",
    "Console.WriteLine($\"{str}, {ts.Ticks} - for string competely\");\n",
    "time.Reset();\n",
    "time.Start();\n",
    "for (int i = 1; i < 1000001; i++)\n",
    "{\n",
    "    sb.Remove(i%10, 1);\n",
    "    sb.Insert(i % 10, (char)rand.Next(97, 122) + \"\");\n",
    "}\n",
    "time.Stop();\n",
    "ts = time.Elapsed;\n",
    "string str1 = sb.ToString();\n",
    "Console.WriteLine($\"{str1}, {ts.Ticks} - for stringbuilder competely\");"
   ]
  },
  {
   "cell_type": "code",
   "execution_count": 6,
   "metadata": {
    "dotnet_interactive": {
     "language": "csharp"
    },
    "polyglot_notebook": {
     "kernelName": "csharp"
    }
   },
   "outputs": [
    {
     "name": "stdout",
     "output_type": "stream",
     "text": [
      "value 23:59 - gr_1 23 - gr_2 59\n",
      "value 02:23 - gr_1 02 - gr_2 23\n",
      "value 13:34 - gr_1 13 - gr_2 34\n"
     ]
    }
   ],
   "source": [
    "using System.Text.RegularExpressions;\n",
    "string pattern = @\"((0[0-9]|1[0-9]|2[0-3]):([^6-9][0-9]))\";\n",
    "string input = \"23:59\" +\n",
    "    \"24:60\" +\n",
    "    \"02:23\" +\n",
    "    \"02:70\" +\n",
    "    \"13:34\";\n",
    "foreach (Match match in Regex.Matches(input, pattern, RegexOptions.IgnoreCase)) \n",
    "{\n",
    "    Console.WriteLine($\"value {match.Value} - gr_1 {match.Groups[2].Value} - gr_2 {match.Groups[3].Value}\");\n",
    "}"
   ]
  },
  {
   "cell_type": "code",
   "execution_count": 9,
   "metadata": {
    "dotnet_interactive": {
     "language": "csharp"
    },
    "polyglot_notebook": {
     "kernelName": "csharp"
    }
   },
   "outputs": [
    {
     "name": "stdout",
     "output_type": "stream",
     "text": [
      "fntrogntr@vjtotgotjgot.ggtjrogt\r\n"
     ]
    }
   ],
   "source": [
    "using System.Text.RegularExpressions;\n",
    "string pattern = @\"^[^\\W_][a-zA-Z-_]+\\@[a-zA-Z]+\\.[a-zA-Z]+\";\n",
    "input = \"fntrogntr@vjtotgotjgot.ggtjrogt\";\n",
    "foreach (Match match in Regex.Matches(input, pattern, RegexOptions.IgnoreCase))\n",
    "{\n",
    "    Console.WriteLine($\"{match.Value}\");\n",
    "}"
   ]
  }
 ],
 "metadata": {
  "kernelspec": {
   "display_name": ".NET (C#)",
   "language": "C#",
   "name": ".net-csharp"
  },
  "language_info": {
   "name": "polyglot-notebook"
  },
  "polyglot_notebook": {
   "kernelInfo": {
    "defaultKernelName": "csharp",
    "items": [
     {
      "aliases": [],
      "languageName": "csharp",
      "name": "csharp"
     }
    ]
   }
  }
 },
 "nbformat": 4,
 "nbformat_minor": 2
}
